{
 "cells": [
  {
   "cell_type": "code",
   "execution_count": 1,
   "id": "e1c0a901",
   "metadata": {},
   "outputs": [],
   "source": [
    "import pandas as pd\n",
    "from sklearn.model_selection import train_test_split\n",
    "from sklearn.ensemble import RandomForestClassifier\n",
    "from sklearn.linear_model import LogisticRegression\n",
    "from xgboost import XGBClassifier\n",
    "from sklearn.metrics import accuracy_score, classification_report, confusion_matrix\n",
    "import joblib\n"
   ]
  },
  {
   "cell_type": "code",
   "execution_count": 2,
   "id": "770dbf27",
   "metadata": {},
   "outputs": [
    {
     "name": "stdout",
     "output_type": "stream",
     "text": [
      "   Gender  Age  Annual Income (k$)  Spending Score (1-100)  \\\n",
      "0       1   19                  15                      39   \n",
      "1       1   21                  15                      81   \n",
      "2       0   20                  16                       6   \n",
      "3       0   23                  16                      77   \n",
      "4       0   31                  17                      40   \n",
      "\n",
      "   Spending_Efficiency  Income_Spend_Interaction  Cluster      Cluster_Label  \\\n",
      "0             2.600000                       585        2  Moderate Spenders   \n",
      "1             5.400000                      1215        2  Moderate Spenders   \n",
      "2             0.375000                        96        2  Moderate Spenders   \n",
      "3             4.812500                      1232        2  Moderate Spenders   \n",
      "4             2.352941                       680        2  Moderate Spenders   \n",
      "\n",
      "          pca1       pca2  \n",
      "0 -2462.026952 -31.552992  \n",
      "1 -1831.716832 -56.947290  \n",
      "2 -2951.267360 -10.462098  \n",
      "3 -1814.746736 -53.433635  \n",
      "4 -2367.025143 -28.919375  \n"
     ]
    }
   ],
   "source": [
    "data = pd.read_csv(r\"C:\\Users\\Alex Marco\\Downloads\\Projects\\Customer Segmentation\\Data\\Processed\\cluster_customers.csv\")\n",
    "print(data.head())"
   ]
  },
  {
   "cell_type": "markdown",
   "id": "8661e07c",
   "metadata": {},
   "source": [
    "We Compute our X and y"
   ]
  },
  {
   "cell_type": "code",
   "execution_count": 3,
   "id": "e8f2c1b3",
   "metadata": {},
   "outputs": [],
   "source": [
    "# Fatures to keep\n",
    "features = [\n",
    "    'Gender',\n",
    "    'Age',\n",
    "    'Annual Income (k$)',\n",
    "    'Spending Score (1-100)',\n",
    "    'Spending_Efficiency',\n",
    "    'Income_Spend_Interaction'\n",
    "]\n",
    "\n",
    "X = data[features]\n",
    "y = data['Cluster']\n",
    "\n",
    "\n",
    "X_train, X_test, y_train, y_test = train_test_split(\n",
    "    X, y, test_size=0.2, random_state=42, stratify=y\n",
    ")"
   ]
  },
  {
   "cell_type": "markdown",
   "id": "b14d353e",
   "metadata": {},
   "source": [
    "We Train Our Model with different Model ro find the best model that we can use"
   ]
  },
  {
   "cell_type": "markdown",
   "id": "e5151de7",
   "metadata": {},
   "source": [
    "Logistic Regression"
   ]
  },
  {
   "cell_type": "code",
   "execution_count": 5,
   "id": "5c3e74a6",
   "metadata": {},
   "outputs": [
    {
     "name": "stderr",
     "output_type": "stream",
     "text": [
      "c:\\Users\\Alex Marco\\Downloads\\Projects\\Customer Segmentation\\venv\\Lib\\site-packages\\sklearn\\linear_model\\_logistic.py:473: ConvergenceWarning: lbfgs failed to converge after 500 iteration(s) (status=1):\n",
      "STOP: TOTAL NO. OF ITERATIONS REACHED LIMIT\n",
      "\n",
      "Increase the number of iterations to improve the convergence (max_iter=500).\n",
      "You might also want to scale the data as shown in:\n",
      "    https://scikit-learn.org/stable/modules/preprocessing.html\n",
      "Please also refer to the documentation for alternative solver options:\n",
      "    https://scikit-learn.org/stable/modules/linear_model.html#logistic-regression\n",
      "  n_iter_i = _check_optimize_result(\n"
     ]
    }
   ],
   "source": [
    "lr = LogisticRegression(max_iter=500)\n",
    "lr.fit(X_train, y_train)\n",
    "lr_pred = lr.predict(X_test)\n",
    "\n"
   ]
  },
  {
   "cell_type": "markdown",
   "id": "0ef85f8d",
   "metadata": {},
   "source": [
    "Random Forest"
   ]
  },
  {
   "cell_type": "code",
   "execution_count": 6,
   "id": "9be8d23b",
   "metadata": {},
   "outputs": [],
   "source": [
    "rf = RandomForestClassifier(random_state=42)\n",
    "rf.fit(X_train, y_train)\n",
    "rf_pred = rf.predict(X_test)\n"
   ]
  },
  {
   "cell_type": "markdown",
   "id": "7e530b05",
   "metadata": {},
   "source": [
    "Xgboost Regressor"
   ]
  },
  {
   "cell_type": "code",
   "execution_count": 7,
   "id": "4804d9e6",
   "metadata": {},
   "outputs": [
    {
     "name": "stderr",
     "output_type": "stream",
     "text": [
      "c:\\Users\\Alex Marco\\Downloads\\Projects\\Customer Segmentation\\venv\\Lib\\site-packages\\xgboost\\training.py:183: UserWarning: [23:07:53] WARNING: C:\\actions-runner\\_work\\xgboost\\xgboost\\src\\learner.cc:738: \n",
      "Parameters: { \"use_label_encoder\" } are not used.\n",
      "\n",
      "  bst.update(dtrain, iteration=i, fobj=obj)\n"
     ]
    }
   ],
   "source": [
    "xgb = XGBClassifier(random_state=42, use_label_encoder=False, eval_metric='mlogloss')\n",
    "xgb.fit(X_train, y_train)\n",
    "xgb_pred = xgb.predict(X_test)\n"
   ]
  },
  {
   "cell_type": "markdown",
   "id": "12bb59c4",
   "metadata": {},
   "source": [
    "Evaluation"
   ]
  },
  {
   "cell_type": "code",
   "execution_count": 8,
   "id": "4ea8f035",
   "metadata": {},
   "outputs": [
    {
     "name": "stdout",
     "output_type": "stream",
     "text": [
      "--- Logistic Regression Evaluation ---\n",
      "Accuracy: 0.925\n",
      "Classification Report:\n",
      "               precision    recall  f1-score   support\n",
      "\n",
      "           0       1.00      0.90      0.95        20\n",
      "           1       0.67      1.00      0.80         2\n",
      "           2       0.86      1.00      0.92        12\n",
      "           3       1.00      1.00      1.00         5\n",
      "           4       0.00      0.00      0.00         1\n",
      "\n",
      "    accuracy                           0.93        40\n",
      "   macro avg       0.70      0.78      0.73        40\n",
      "weighted avg       0.92      0.93      0.92        40\n",
      "\n",
      "Confusion Matrix:\n",
      " [[18  0  2  0  0]\n",
      " [ 0  2  0  0  0]\n",
      " [ 0  0 12  0  0]\n",
      " [ 0  0  0  5  0]\n",
      " [ 0  1  0  0  0]]\n",
      "\n",
      "\n",
      "--- Random Forest Evaluation ---\n",
      "Accuracy: 0.975\n",
      "Classification Report:\n",
      "               precision    recall  f1-score   support\n",
      "\n",
      "           0       1.00      1.00      1.00        20\n",
      "           1       0.67      1.00      0.80         2\n",
      "           2       1.00      1.00      1.00        12\n",
      "           3       1.00      1.00      1.00         5\n",
      "           4       0.00      0.00      0.00         1\n",
      "\n",
      "    accuracy                           0.97        40\n",
      "   macro avg       0.73      0.80      0.76        40\n",
      "weighted avg       0.96      0.97      0.97        40\n",
      "\n",
      "Confusion Matrix:\n",
      " [[20  0  0  0  0]\n",
      " [ 0  2  0  0  0]\n",
      " [ 0  0 12  0  0]\n",
      " [ 0  0  0  5  0]\n",
      " [ 0  1  0  0  0]]\n",
      "\n",
      "\n",
      "--- XGBoost Classifier Evaluation ---\n",
      "Accuracy: 0.95\n"
     ]
    },
    {
     "name": "stderr",
     "output_type": "stream",
     "text": [
      "c:\\Users\\Alex Marco\\Downloads\\Projects\\Customer Segmentation\\venv\\Lib\\site-packages\\sklearn\\metrics\\_classification.py:1731: UndefinedMetricWarning: Precision is ill-defined and being set to 0.0 in labels with no predicted samples. Use `zero_division` parameter to control this behavior.\n",
      "  _warn_prf(average, modifier, f\"{metric.capitalize()} is\", result.shape[0])\n",
      "c:\\Users\\Alex Marco\\Downloads\\Projects\\Customer Segmentation\\venv\\Lib\\site-packages\\sklearn\\metrics\\_classification.py:1731: UndefinedMetricWarning: Precision is ill-defined and being set to 0.0 in labels with no predicted samples. Use `zero_division` parameter to control this behavior.\n",
      "  _warn_prf(average, modifier, f\"{metric.capitalize()} is\", result.shape[0])\n",
      "c:\\Users\\Alex Marco\\Downloads\\Projects\\Customer Segmentation\\venv\\Lib\\site-packages\\sklearn\\metrics\\_classification.py:1731: UndefinedMetricWarning: Precision is ill-defined and being set to 0.0 in labels with no predicted samples. Use `zero_division` parameter to control this behavior.\n",
      "  _warn_prf(average, modifier, f\"{metric.capitalize()} is\", result.shape[0])\n",
      "c:\\Users\\Alex Marco\\Downloads\\Projects\\Customer Segmentation\\venv\\Lib\\site-packages\\sklearn\\metrics\\_classification.py:1731: UndefinedMetricWarning: Precision is ill-defined and being set to 0.0 in labels with no predicted samples. Use `zero_division` parameter to control this behavior.\n",
      "  _warn_prf(average, modifier, f\"{metric.capitalize()} is\", result.shape[0])\n",
      "c:\\Users\\Alex Marco\\Downloads\\Projects\\Customer Segmentation\\venv\\Lib\\site-packages\\sklearn\\metrics\\_classification.py:1731: UndefinedMetricWarning: Precision is ill-defined and being set to 0.0 in labels with no predicted samples. Use `zero_division` parameter to control this behavior.\n",
      "  _warn_prf(average, modifier, f\"{metric.capitalize()} is\", result.shape[0])\n",
      "c:\\Users\\Alex Marco\\Downloads\\Projects\\Customer Segmentation\\venv\\Lib\\site-packages\\sklearn\\metrics\\_classification.py:1731: UndefinedMetricWarning: Precision is ill-defined and being set to 0.0 in labels with no predicted samples. Use `zero_division` parameter to control this behavior.\n",
      "  _warn_prf(average, modifier, f\"{metric.capitalize()} is\", result.shape[0])\n"
     ]
    },
    {
     "name": "stdout",
     "output_type": "stream",
     "text": [
      "Classification Report:\n",
      "               precision    recall  f1-score   support\n",
      "\n",
      "           0       0.95      1.00      0.98        20\n",
      "           1       1.00      0.50      0.67         2\n",
      "           2       1.00      1.00      1.00        12\n",
      "           3       0.80      0.80      0.80         5\n",
      "           4       1.00      1.00      1.00         1\n",
      "\n",
      "    accuracy                           0.95        40\n",
      "   macro avg       0.95      0.86      0.89        40\n",
      "weighted avg       0.95      0.95      0.95        40\n",
      "\n",
      "Confusion Matrix:\n",
      " [[20  0  0  0  0]\n",
      " [ 0  1  0  1  0]\n",
      " [ 0  0 12  0  0]\n",
      " [ 1  0  0  4  0]\n",
      " [ 0  0  0  0  1]]\n",
      "\n",
      "\n"
     ]
    }
   ],
   "source": [
    "def evaluate_model(y_true, y_pred, model_name):\n",
    "    print(f\"--- {model_name} Evaluation ---\")\n",
    "    print(\"Accuracy:\", accuracy_score(y_true, y_pred))\n",
    "    print(\"Classification Report:\\n\", classification_report(y_true, y_pred))\n",
    "    print(\"Confusion Matrix:\\n\", confusion_matrix(y_true, y_pred))\n",
    "    print(\"\\n\")\n",
    "    \n",
    "evaluate_model(y_test, lr_pred, \"Logistic Regression\")\n",
    "evaluate_model(y_test, rf_pred, \"Random Forest\")    \n",
    "evaluate_model(y_test, xgb_pred, \"XGBoost Classifier\")\n"
   ]
  },
  {
   "cell_type": "code",
   "execution_count": 11,
   "id": "03a5ff43",
   "metadata": {},
   "outputs": [
    {
     "data": {
      "image/png": "[encoded data removed]",
      "text/plain": [
       "<Figure size 600x400 with 2 Axes>"
      ]
     },
     "metadata": {},
     "output_type": "display_data"
    }
   ],
   "source": [
    "import seaborn as sns\n",
    "import matplotlib.pyplot as plt\n",
    "from sklearn.metrics import confusion_matrix\n",
    "\n",
    "cm = confusion_matrix(y_test, xgb_pred)\n",
    "plt.figure(figsize=(6,4))\n",
    "sns.heatmap(cm, annot=True, fmt='d', cmap='Blues')\n",
    "plt.title('Customer Type Classification - Confusion Matrix')\n",
    "plt.xlabel('Predicted')\n",
    "plt.ylabel('True')\n",
    "plt.show()\n"
   ]
  },
  {
   "cell_type": "markdown",
   "id": "6b3d5e79",
   "metadata": {},
   "source": [
    "Save Use Model <br>\n",
    "in our case is Random Forest performs well and have high accuracy scores"
   ]
  },
  {
   "cell_type": "code",
   "execution_count": 10,
   "id": "4bd3e7a8",
   "metadata": {},
   "outputs": [
    {
     "name": "stdout",
     "output_type": "stream",
     "text": [
      "Classifier model saved successfully\n"
     ]
    }
   ],
   "source": [
    "# Save the best model\n",
    "joblib.dump(rf, '../Model/random_forest_model.pkl')\n",
    "print(\"Classifier model saved successfully\")"
   ]
  },
  {
   "cell_type": "code",
   "execution_count": 14,
   "id": "af397e5e",
   "metadata": {},
   "outputs": [
    {
     "data": {
      "text/plain": [
       "['../Model/features.pkl']"
      ]
     },
     "execution_count": 14,
     "metadata": {},
     "output_type": "execute_result"
    }
   ],
   "source": [
    "joblib.dump(features, '../Model/features.pkl')\n"
   ]
  },
  {
   "cell_type": "code",
   "execution_count": null,
   "id": "b70f4473",
   "metadata": {},
   "outputs": [],
   "source": []
  }
 ],
 "metadata": {
  "kernelspec": {
   "display_name": "venv",
   "language": "python",
   "name": "python3"
  },
  "language_info": {
   "codemirror_mode": {
    "name": "ipython",
    "version": 3
   },
   "file_extension": ".py",
   "mimetype": "text/x-python",
   "name": "python",
   "nbconvert_exporter": "python",
   "pygments_lexer": "ipython3",
   "version": "3.13.1"
  }
 },
 "nbformat": 4,
 "nbformat_minor": 5
}
