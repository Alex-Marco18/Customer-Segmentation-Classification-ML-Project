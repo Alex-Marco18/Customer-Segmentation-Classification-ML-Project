{
 "cells": [
  {
   "cell_type": "markdown",
   "id": "a7710e29",
   "metadata": {},
   "source": [
    "### Data Preprocessing"
   ]
  },
  {
   "cell_type": "code",
   "execution_count": 1,
   "id": "5831db99",
   "metadata": {},
   "outputs": [],
   "source": [
    "import numpy as np\n",
    "import pandas as pd"
   ]
  },
  {
   "cell_type": "markdown",
   "id": "f9b041d5",
   "metadata": {},
   "source": [
    "load Dataset"
   ]
  },
  {
   "cell_type": "code",
   "execution_count": 2,
   "id": "1a350453",
   "metadata": {},
   "outputs": [
    {
     "name": "stdout",
     "output_type": "stream",
     "text": [
      "   CustomerID  Gender  Age  Annual Income (k$)  Spending Score (1-100)\n",
      "0           1    Male   19                  15                      39\n",
      "1           2    Male   21                  15                      81\n",
      "2           3  Female   20                  16                       6\n",
      "3           4  Female   23                  16                      77\n",
      "4           5  Female   31                  17                      40\n",
      "<class 'pandas.core.frame.DataFrame'>\n",
      "RangeIndex: 200 entries, 0 to 199\n",
      "Data columns (total 5 columns):\n",
      " #   Column                  Non-Null Count  Dtype \n",
      "---  ------                  --------------  ----- \n",
      " 0   CustomerID              200 non-null    int64 \n",
      " 1   Gender                  200 non-null    object\n",
      " 2   Age                     200 non-null    int64 \n",
      " 3   Annual Income (k$)      200 non-null    int64 \n",
      " 4   Spending Score (1-100)  200 non-null    int64 \n",
      "dtypes: int64(4), object(1)\n",
      "memory usage: 7.9+ KB\n",
      "None\n",
      "       CustomerID         Age  Annual Income (k$)  Spending Score (1-100)\n",
      "count  200.000000  200.000000          200.000000              200.000000\n",
      "mean   100.500000   38.850000           60.560000               50.200000\n",
      "std     57.879185   13.969007           26.264721               25.823522\n",
      "min      1.000000   18.000000           15.000000                1.000000\n",
      "25%     50.750000   28.750000           41.500000               34.750000\n",
      "50%    100.500000   36.000000           61.500000               50.000000\n",
      "75%    150.250000   49.000000           78.000000               73.000000\n",
      "max    200.000000   70.000000          137.000000               99.000000\n",
      "(200, 5)\n"
     ]
    }
   ],
   "source": [
    "\n",
    "data = pd.read_csv(r\"C:\\Users\\Alex Marco\\Downloads\\Projects\\Customer Segmentation\\Data\\Mall_Customers.csv\")\n",
    "\n",
    "print(data.head())\n",
    "print(data.info())\n",
    "print(data.describe())\n",
    "print(data.shape)\n"
   ]
  },
  {
   "cell_type": "markdown",
   "id": "2fbfc4df",
   "metadata": {},
   "source": [
    "Check for missing Value"
   ]
  },
  {
   "cell_type": "code",
   "execution_count": 3,
   "id": "7cac8c21",
   "metadata": {},
   "outputs": [
    {
     "name": "stdout",
     "output_type": "stream",
     "text": [
      "CustomerID                0\n",
      "Gender                    0\n",
      "Age                       0\n",
      "Annual Income (k$)        0\n",
      "Spending Score (1-100)    0\n",
      "dtype: int64\n"
     ]
    }
   ],
   "source": [
    "\n",
    "null = data.isnull().sum()\n",
    "print(null)"
   ]
  },
  {
   "cell_type": "markdown",
   "id": "f9b340cf",
   "metadata": {},
   "source": [
    "Feature Engineering <br>\n",
    "Create new features that better represent customer behavior"
   ]
  },
  {
   "cell_type": "markdown",
   "id": "ca0a1767",
   "metadata": {},
   "source": [
    "We add Features that represent customer spending behavior \n",
    "#### Spending Efficiency\n",
    "This feature measures how much a customer spends relative to their income.\n",
    "\n",
    "$$ \\text{Spending Efficiency} = \\frac{\\text{Spending Score}}{\\text{Annual Income (k\\$)}} $$\n",
    "\n",
    "#### Interpretation\n",
    "*   **High value **($\\approx$1 or more)****: Spends heavily despite income (impulsive spender).\n",
    "*   **Low value (<0.2)**: Conservative or low spender relative to income."
   ]
  },
  {
   "cell_type": "code",
   "execution_count": 4,
   "id": "648d460b",
   "metadata": {},
   "outputs": [],
   "source": [
    "data['Spending_Efficiency'] = data['Spending Score (1-100)'] / data['Annual Income (k$)']\n"
   ]
  },
  {
   "cell_type": "markdown",
   "id": "2aae1167",
   "metadata": {},
   "source": [
    "\n",
    "### Income-Spend Interaction\n",
    "Sometimes the interaction between income and spending better captures wealthy heavy spenders.\n",
    "\n",
    "$$ \\text{Income-Spend Interaction} = \\text{Annual Income (k\\$)} \\times \\text{Spending Score (1-100)} $$\n",
    "\n",
    "#### Interpretation\n",
    "*   **High value (High income × high spending score)**: High-value premium customers.\n",
    "*   **Low value (Low income × low spending score)**: Budget buyers.\n"
   ]
  },
  {
   "cell_type": "code",
   "execution_count": 5,
   "id": "18bc16d6",
   "metadata": {},
   "outputs": [],
   "source": [
    "data['Income_Spend_Interaction'] = data['Annual Income (k$)'] * data['Spending Score (1-100)']\n"
   ]
  },
  {
   "cell_type": "code",
   "execution_count": 6,
   "id": "ccb361e9",
   "metadata": {},
   "outputs": [],
   "source": [
    "## Features to Keep\n",
    "feature = [\n",
    "    'Gender',\n",
    "    'Age',\n",
    "    'Annual Income (k$)',\n",
    "    'Spending Score (1-100)',\n",
    "    'Spending_Efficiency',\n",
    "    'Income_Spend_Interaction'\n",
    "]\n",
    "\n",
    "df = data[feature]"
   ]
  },
  {
   "cell_type": "markdown",
   "id": "2cb8fb2c",
   "metadata": {},
   "source": [
    "Encode Categorical Features <br>\n",
    "Convert text features like “Gender” into numerical:"
   ]
  },
  {
   "cell_type": "code",
   "execution_count": 14,
   "id": "7722513c",
   "metadata": {},
   "outputs": [
    {
     "name": "stderr",
     "output_type": "stream",
     "text": [
      "C:\\Users\\Alex Marco\\AppData\\Local\\Temp\\ipykernel_17972\\1298539683.py:4: SettingWithCopyWarning: \n",
      "A value is trying to be set on a copy of a slice from a DataFrame.\n",
      "Try using .loc[row_indexer,col_indexer] = value instead\n",
      "\n",
      "See the caveats in the documentation: https://pandas.pydata.org/pandas-docs/stable/user_guide/indexing.html#returning-a-view-versus-a-copy\n",
      "  df['Gender'] = le.fit_transform(df['Gender'])  # Male=1, Female=0\n"
     ]
    }
   ],
   "source": [
    "from sklearn.preprocessing import LabelEncoder\n",
    "import joblib\n",
    "le = LabelEncoder()\n",
    "df['Gender'] = le.fit_transform(df['Gender'])  # Male=1, Female=0"
   ]
  },
  {
   "cell_type": "markdown",
   "id": "f0288f89",
   "metadata": {},
   "source": [
    "Feature Scaling <br>\n",
    "K-Means and most ML algorithms are distance-based, so scale your data."
   ]
  },
  {
   "cell_type": "code",
   "execution_count": 16,
   "id": "7dde5c91",
   "metadata": {},
   "outputs": [
    {
     "data": {
      "text/plain": [
       "['../Model/scaler.pkl']"
      ]
     },
     "execution_count": 16,
     "metadata": {},
     "output_type": "execute_result"
    }
   ],
   "source": [
    "from sklearn.preprocessing import StandardScaler\n",
    "scaler = StandardScaler()\n",
    "scaled_features = scaler.fit_transform(df)\n",
    "\n",
    "\n",
    "## save scaler\n",
    "joblib.dump(scaler, '../Model/scaler.pkl')"
   ]
  },
  {
   "cell_type": "markdown",
   "id": "1b943df3",
   "metadata": {},
   "source": [
    "Save features for later"
   ]
  },
  {
   "cell_type": "code",
   "execution_count": 11,
   "id": "ebef5568",
   "metadata": {},
   "outputs": [],
   "source": [
    "df.to_csv(r'C:\\Users\\Alex Marco\\Downloads\\Projects\\Customer Segmentation\\Data\\Processed\\processed_customers.csv', index=False)"
   ]
  }
 ],
 "metadata": {
  "kernelspec": {
   "display_name": "venv",
   "language": "python",
   "name": "python3"
  },
  "language_info": {
   "codemirror_mode": {
    "name": "ipython",
    "version": 3
   },
   "file_extension": ".py",
   "mimetype": "text/x-python",
   "name": "python",
   "nbconvert_exporter": "python",
   "pygments_lexer": "ipython3",
   "version": "3.13.1"
  }
 },
 "nbformat": 4,
 "nbformat_minor": 5
}
